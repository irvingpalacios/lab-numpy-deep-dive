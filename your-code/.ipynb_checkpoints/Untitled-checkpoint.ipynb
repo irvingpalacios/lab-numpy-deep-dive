{
 "cells": [
  {
   "cell_type": "code",
   "execution_count": 37,
   "metadata": {},
   "outputs": [],
   "source": [
    "\n",
    "#1. Import the NUMPY package under the name np.\n",
    "import numpy as np\n"
   ]
  },
  {
   "cell_type": "code",
   "execution_count": 38,
   "metadata": {},
   "outputs": [
    {
     "name": "stdout",
     "output_type": "stream",
     "text": [
      "1.19.2\n"
     ]
    }
   ],
   "source": [
    "#2. Print the NUMPY version and the configuration.\n",
    "print(np.version.version)"
   ]
  },
  {
   "cell_type": "code",
   "execution_count": 39,
   "metadata": {},
   "outputs": [],
   "source": [
    "#3. Generate a 2x3x5 3-dimensional array with random values. Assign the array to variable \"a\"\n",
    "# Challenge: there are at least three easy ways that use numpy to generate random arrays. How many ways can you find?\n",
    "\n",
    "a = np.random.random((2,3,5))"
   ]
  },
  {
   "cell_type": "code",
   "execution_count": 40,
   "metadata": {},
   "outputs": [
    {
     "name": "stdout",
     "output_type": "stream",
     "text": [
      "[[[0.68862594 0.16822786 0.52513036 0.78454044 0.29206984]\n",
      "  [0.82998183 0.00483465 0.25446659 0.17428772 0.20507107]\n",
      "  [0.85838921 0.97420007 0.69671927 0.36875131 0.87915175]]\n",
      "\n",
      " [[0.30538055 0.37201076 0.58934516 0.79517897 0.81371227]\n",
      "  [0.36634439 0.45641486 0.4128418  0.20009033 0.45153174]\n",
      "  [0.74589167 0.07919749 0.83038432 0.27231925 0.48109823]]]\n"
     ]
    }
   ],
   "source": [
    "#4. Print a.\n",
    "\n",
    "print (a)"
   ]
  },
  {
   "cell_type": "code",
   "execution_count": 41,
   "metadata": {},
   "outputs": [
    {
     "name": "stdout",
     "output_type": "stream",
     "text": [
      "5.-\n",
      "\n"
     ]
    }
   ],
   "source": [
    "#5. Create a 5x2x3 3-dimensional array with all values equaling 1.\n",
    "#Assign the array to variable \"b\"\n",
    "\n",
    "print(\"5.-\\n\")\n",
    "b = np.ones((5,2,3))\n"
   ]
  },
  {
   "cell_type": "code",
   "execution_count": 42,
   "metadata": {},
   "outputs": [
    {
     "name": "stdout",
     "output_type": "stream",
     "text": [
      "[[[1. 1. 1.]\n",
      "  [1. 1. 1.]]\n",
      "\n",
      " [[1. 1. 1.]\n",
      "  [1. 1. 1.]]\n",
      "\n",
      " [[1. 1. 1.]\n",
      "  [1. 1. 1.]]\n",
      "\n",
      " [[1. 1. 1.]\n",
      "  [1. 1. 1.]]\n",
      "\n",
      " [[1. 1. 1.]\n",
      "  [1. 1. 1.]]]\n"
     ]
    }
   ],
   "source": [
    "#6. Print b.\n",
    "\n",
    "print (b)"
   ]
  },
  {
   "cell_type": "code",
   "execution_count": 43,
   "metadata": {},
   "outputs": [
    {
     "name": "stdout",
     "output_type": "stream",
     "text": [
      "True \n",
      "a= 30 \n",
      "b= 30\n"
     ]
    }
   ],
   "source": [
    "#7. Do a and b have the same size? How do you prove that in Python code?\n",
    "if a.size == b.size:\n",
    "    print( True ,\"\\na=\",a.size,\"\\nb=\",b.size)\n",
    "else:\n",
    "    print (False ,\"\\na=\",a.size,\"\\nb=\",b.size)"
   ]
  },
  {
   "cell_type": "code",
   "execution_count": 49,
   "metadata": {},
   "outputs": [
    {
     "ename": "ValueError",
     "evalue": "operands could not be broadcast together with shapes (2,3,5) (5,2,3) ",
     "output_type": "error",
     "traceback": [
      "\u001b[0;31m---------------------------------------------------------------------------\u001b[0m",
      "\u001b[0;31mValueError\u001b[0m                                Traceback (most recent call last)",
      "\u001b[0;32m<ipython-input-49-0f80fd6a65d1>\u001b[0m in \u001b[0;36m<module>\u001b[0;34m\u001b[0m\n\u001b[1;32m      2\u001b[0m \u001b[0;34m\u001b[0m\u001b[0m\n\u001b[1;32m      3\u001b[0m \u001b[0;34m\u001b[0m\u001b[0m\n\u001b[0;32m----> 4\u001b[0;31m \u001b[0md\u001b[0m \u001b[0;34m=\u001b[0m \u001b[0mnp\u001b[0m\u001b[0;34m.\u001b[0m\u001b[0madd\u001b[0m\u001b[0;34m(\u001b[0m\u001b[0ma\u001b[0m\u001b[0;34m,\u001b[0m\u001b[0mb\u001b[0m\u001b[0;34m)\u001b[0m\u001b[0;34m\u001b[0m\u001b[0;34m\u001b[0m\u001b[0m\n\u001b[0m\u001b[1;32m      5\u001b[0m \u001b[0;34m\u001b[0m\u001b[0m\n\u001b[1;32m      6\u001b[0m \u001b[0mprint\u001b[0m\u001b[0;34m(\u001b[0m\u001b[0;34m\"10.-\\n\\nd:\"\u001b[0m\u001b[0;34m,\u001b[0m\u001b[0md\u001b[0m\u001b[0;34m)\u001b[0m\u001b[0;34m\u001b[0m\u001b[0;34m\u001b[0m\u001b[0m\n",
      "\u001b[0;31mValueError\u001b[0m: operands could not be broadcast together with shapes (2,3,5) (5,2,3) "
     ]
    }
   ],
   "source": [
    "#8. Are you able to add a and b? Why or why not?\n",
    "\n",
    "\n",
    "d = np.add(a,b)\n",
    "\n",
    "print(\"10.-\\n\\nd:\",d)\n",
    "##ValueError: operands could not be broadcast together with shapes (2,3,5) (5,2,3) \n",
    "## No, we can't add both arrays because they are not of the same size and shape\n"
   ]
  },
  {
   "cell_type": "code",
   "execution_count": 50,
   "metadata": {},
   "outputs": [
    {
     "name": "stdout",
     "output_type": "stream",
     "text": [
      "9.-C:\n",
      " [[[1. 1. 1. 1. 1.]\n",
      "  [1. 1. 1. 1. 1.]\n",
      "  [1. 1. 1. 1. 1.]]\n",
      "\n",
      " [[1. 1. 1. 1. 1.]\n",
      "  [1. 1. 1. 1. 1.]\n",
      "  [1. 1. 1. 1. 1.]]]\n"
     ]
    }
   ],
   "source": [
    "#9. Transpose b so that it has the same structure of a (i.e. become a 2x3x5 array). Assign the transposed array to varialbe \"c\".\n",
    "\n",
    "c= b.reshape(2,3,5)\n",
    "\n",
    "print (\"9.-C:\\n\",c)"
   ]
  },
  {
   "cell_type": "code",
   "execution_count": 51,
   "metadata": {},
   "outputs": [
    {
     "name": "stdout",
     "output_type": "stream",
     "text": [
      "10.-\n",
      "\n",
      "d: [[[1.68862594 1.16822786 1.52513036 1.78454044 1.29206984]\n",
      "  [1.82998183 1.00483465 1.25446659 1.17428772 1.20507107]\n",
      "  [1.85838921 1.97420007 1.69671927 1.36875131 1.87915175]]\n",
      "\n",
      " [[1.30538055 1.37201076 1.58934516 1.79517897 1.81371227]\n",
      "  [1.36634439 1.45641486 1.4128418  1.20009033 1.45153174]\n",
      "  [1.74589167 1.07919749 1.83038432 1.27231925 1.48109823]]]\n"
     ]
    }
   ],
   "source": [
    "#10. Try to add a and c. Now it should work. Assign the sum to varialbe \"d\". But why does it work now?\n",
    "\n",
    "d = np.add(a,c)\n",
    "\n",
    "print(\"10.-\\n\\nd:\",d)"
   ]
  },
  {
   "cell_type": "code",
   "execution_count": 52,
   "metadata": {},
   "outputs": [
    {
     "name": "stdout",
     "output_type": "stream",
     "text": [
      "a:\n",
      "\n",
      " [[[0.68862594 0.16822786 0.52513036 0.78454044 0.29206984]\n",
      "  [0.82998183 0.00483465 0.25446659 0.17428772 0.20507107]\n",
      "  [0.85838921 0.97420007 0.69671927 0.36875131 0.87915175]]\n",
      "\n",
      " [[0.30538055 0.37201076 0.58934516 0.79517897 0.81371227]\n",
      "  [0.36634439 0.45641486 0.4128418  0.20009033 0.45153174]\n",
      "  [0.74589167 0.07919749 0.83038432 0.27231925 0.48109823]]]\n",
      "d:\n",
      "\n",
      " [[[1.68862594 1.16822786 1.52513036 1.78454044 1.29206984]\n",
      "  [1.82998183 1.00483465 1.25446659 1.17428772 1.20507107]\n",
      "  [1.85838921 1.97420007 1.69671927 1.36875131 1.87915175]]\n",
      "\n",
      " [[1.30538055 1.37201076 1.58934516 1.79517897 1.81371227]\n",
      "  [1.36634439 1.45641486 1.4128418  1.20009033 1.45153174]\n",
      "  [1.74589167 1.07919749 1.83038432 1.27231925 1.48109823]]]\n"
     ]
    }
   ],
   "source": [
    "#11. Print a and d. Notice the difference and relation of the two array in terms of the values? Explain.\n",
    "\n",
    "print (\"a:\\n\\n\",a)\n",
    "print(\"d:\\n\\n\",d)"
   ]
  },
  {
   "cell_type": "code",
   "execution_count": 56,
   "metadata": {},
   "outputs": [
    {
     "name": "stdout",
     "output_type": "stream",
     "text": [
      "10.-\n",
      "\n",
      "e: [[[0.68862594 0.16822786 0.52513036 0.78454044 0.29206984]\n",
      "  [0.82998183 0.00483465 0.25446659 0.17428772 0.20507107]\n",
      "  [0.85838921 0.97420007 0.69671927 0.36875131 0.87915175]]\n",
      "\n",
      " [[0.30538055 0.37201076 0.58934516 0.79517897 0.81371227]\n",
      "  [0.36634439 0.45641486 0.4128418  0.20009033 0.45153174]\n",
      "  [0.74589167 0.07919749 0.83038432 0.27231925 0.48109823]]]\n"
     ]
    }
   ],
   "source": [
    "#12. Multiply a and c. Assign the result to e.\n",
    "\n",
    "\n",
    "e = np.multiply(a,c)\n",
    "\n",
    "print(\"10.-\\n\\ne:\",e)"
   ]
  },
  {
   "cell_type": "code",
   "execution_count": 57,
   "metadata": {},
   "outputs": [
    {
     "name": "stdout",
     "output_type": "stream",
     "text": [
      "a:\n",
      " [[[0.68862594 0.16822786 0.52513036 0.78454044 0.29206984]\n",
      "  [0.82998183 0.00483465 0.25446659 0.17428772 0.20507107]\n",
      "  [0.85838921 0.97420007 0.69671927 0.36875131 0.87915175]]\n",
      "\n",
      " [[0.30538055 0.37201076 0.58934516 0.79517897 0.81371227]\n",
      "  [0.36634439 0.45641486 0.4128418  0.20009033 0.45153174]\n",
      "  [0.74589167 0.07919749 0.83038432 0.27231925 0.48109823]]] \n",
      "\n",
      "\n",
      "e:\n",
      " [[[0.68862594 0.16822786 0.52513036 0.78454044 0.29206984]\n",
      "  [0.82998183 0.00483465 0.25446659 0.17428772 0.20507107]\n",
      "  [0.85838921 0.97420007 0.69671927 0.36875131 0.87915175]]\n",
      "\n",
      " [[0.30538055 0.37201076 0.58934516 0.79517897 0.81371227]\n",
      "  [0.36634439 0.45641486 0.4128418  0.20009033 0.45153174]\n",
      "  [0.74589167 0.07919749 0.83038432 0.27231925 0.48109823]]] \n",
      "\n",
      "\n"
     ]
    }
   ],
   "source": [
    "#13. Does e equal to a? Why or why not?\n",
    "\n",
    "print (\"a:\\n\",a,\"\\n\\n\")\n",
    "print (\"e:\\n\",e,\"\\n\\n\")\n"
   ]
  },
  {
   "cell_type": "code",
   "execution_count": 58,
   "metadata": {},
   "outputs": [],
   "source": [
    "## Si porque el valor de C es la matriz transpuesta de b,que a su vez es una matriz unitaria.\n"
   ]
  },
  {
   "cell_type": "code",
   "execution_count": 59,
   "metadata": {},
   "outputs": [
    {
     "name": "stdout",
     "output_type": "stream",
     "text": [
      "d_max: 1.9742000744253767 \n",
      "\n",
      "d_max: 1.0048346537382198 \n",
      "\n",
      "d_max: 1.4958729902721304 \n",
      "\n"
     ]
    }
   ],
   "source": [
    "#14. Identify the max, min, and mean values in d. \n",
    "#Assign those values to variables \"d_max\", \"d_min\", and \n",
    "#\"d_mean\"\n",
    "\n",
    "d_max = np.max (d)\n",
    "d_min = np.min(d)\n",
    "d_mean = np.mean(d)\n",
    "\n",
    "print(\"d_max:\",d_max, \"\\n\")\n",
    "print(\"d_max:\",d_min, \"\\n\")\n",
    "print(\"d_max:\",d_mean, \"\\n\")\n"
   ]
  },
  {
   "cell_type": "code",
   "execution_count": null,
   "metadata": {},
   "outputs": [],
   "source": [
    "#15. Now we want to label the values in d. \n",
    "#First create an empty array \"f\" with the same shape \n",
    "#(i.e. 2x3x5) as d using `np.empty`.\n",
    "\n"
   ]
  }
 ],
 "metadata": {
  "kernelspec": {
   "display_name": "Python 3",
   "language": "python",
   "name": "python3"
  },
  "language_info": {
   "codemirror_mode": {
    "name": "ipython",
    "version": 3
   },
   "file_extension": ".py",
   "mimetype": "text/x-python",
   "name": "python",
   "nbconvert_exporter": "python",
   "pygments_lexer": "ipython3",
   "version": "3.8.5"
  }
 },
 "nbformat": 4,
 "nbformat_minor": 4
}
